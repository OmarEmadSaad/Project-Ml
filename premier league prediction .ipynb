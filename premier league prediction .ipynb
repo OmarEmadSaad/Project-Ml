{
 "cells": [
  {
   "cell_type": "code",
   "execution_count": null,
   "id": "230d6712-64cd-4e84-9161-22870cc7f4b1",
   "metadata": {},
   "outputs": [],
   "source": [
    "Name : Omar Emad "
   ]
  },
  {
   "cell_type": "code",
   "execution_count": 61,
   "id": "c485cda0-48b0-4bf4-834b-f6d0437da5fc",
   "metadata": {},
   "outputs": [
    {
     "name": "stdout",
     "output_type": "stream",
     "text": [
      "First 5 rows of the prepared dataset:\n",
      "    #  Minutes  Goals  Assists  Penalty Shoot on Goal  Penalty Shoot  \\\n",
      "0   8       90      0        0                      0              0   \n",
      "1  10       90      0        0                      0              0   \n",
      "2  16       60      0        0                      0              0   \n",
      "3  17       30      0        1                      0              0   \n",
      "4   7       60      0        0                      0              0   \n",
      "\n",
      "   Total Shoot  Shoot on Target  Yellow Cards  Red Cards  ...  \\\n",
      "0            6                3             0          0  ...   \n",
      "1            0                0             0          0  ...   \n",
      "2            0                0             0          0  ...   \n",
      "3            2                0             0          0  ...   \n",
      "4            1                1             1          0  ...   \n",
      "\n",
      "   Shot-Creating Actions  Goal-Creating Actions  Passes Completed  \\\n",
      "0                      2                      0                43   \n",
      "1                      1                      0                22   \n",
      "2                      1                      0                28   \n",
      "3                      3                      1                10   \n",
      "4                      3                      0                11   \n",
      "\n",
      "   Passes Attempted  Pass Completion %  Progressive Passes  Carries  \\\n",
      "0                60               71.7                   6       50   \n",
      "1                30               73.3                   2       34   \n",
      "2                33               84.8                   1       22   \n",
      "3                11               90.9                   0       11   \n",
      "4                15               73.3                   1       16   \n",
      "\n",
      "   Progressive Carries  Dribble Attempts  Successful Dribbles  \n",
      "0                    7                 1                    1  \n",
      "1                    2                 6                    0  \n",
      "2                    0                 1                    1  \n",
      "3                    2                 2                    0  \n",
      "4                    0                 2                    0  \n",
      "\n",
      "[5 rows x 27 columns]\n",
      "\n",
      "Shape of the feature data (X): (4224, 26)\n"
     ]
    }
   ],
   "source": [
    "import pandas as pd\n",
    "from sklearn.preprocessing import StandardScaler\n",
    "\n",
    "# Load the dataset\n",
    "df = pd.read_csv(r'D:\\level 4 cs\\Smester 2\\Project ML\\Project Ml\\database.csv')\n",
    "\n",
    "# Drop irrelevant columns\n",
    "df = df.drop(['Player', 'Team', 'Nation', 'Position', 'Age', 'Date'], axis=1)\n",
    "\n",
    "# Convert Pass Completion % to float after replacing comma with dot\n",
    "df['Pass Completion %'] = df['Pass Completion %'].str.replace(',', '.').astype(float)\n",
    "\n",
    "# Drop rows with missing values\n",
    "df = df.dropna()\n",
    "\n",
    "# Separate features (X) and target (y)\n",
    "X = df.drop('Goals', axis=1)\n",
    "y = df['Goals']\n",
    "\n",
    "# Normalize the feature data (important for KNN)\n",
    "scaler = StandardScaler()\n",
    "X_scaled = scaler.fit_transform(X)\n",
    "\n",
    "# Print the first 5 rows of the dataframe to verify\n",
    "print(\"First 5 rows of the prepared dataset:\")\n",
    "print(df.head())\n",
    "\n",
    "# Print the shape of the feature data to confirm the size\n",
    "print(\"\\nShape of the feature data (X):\", X_scaled.shape)\n"
   ]
  },
  {
   "cell_type": "code",
   "execution_count": 63,
   "id": "aab5f54c-f308-4d74-8bcb-ac758695737d",
   "metadata": {},
   "outputs": [],
   "source": [
    "from sklearn.model_selection import train_test_split\n",
    "\n",
    "# Split the data into training (80%) and testing (20%) sets\n",
    "X_train, X_test, y_train, y_test = train_test_split(X_scaled, y, test_size=0.2, random_state=42)\n"
   ]
  },
  {
   "cell_type": "code",
   "execution_count": 65,
   "id": "2d7b127a-7e07-4209-9f08-d5bb3c4ee10b",
   "metadata": {},
   "outputs": [],
   "source": [
    "from sklearn.neighbors import KNeighborsRegressor\n",
    "\n",
    "# Create the KNN model with 5 neighbors\n",
    "knn = KNeighborsRegressor(n_neighbors=5)\n",
    "\n",
    "# Train the model\n",
    "knn.fit(X_train, y_train)\n",
    "\n",
    "# Make predictions on the test set\n",
    "y_pred = knn.predict(X_test)\n"
   ]
  },
  {
   "cell_type": "code",
   "execution_count": 67,
   "id": "80307e8a-5cae-4439-89ae-93adf8d722bf",
   "metadata": {},
   "outputs": [
    {
     "name": "stdout",
     "output_type": "stream",
     "text": [
      "RMSE: 0.26081347480345657\n",
      "R^2 Score: 0.35440625249222424\n"
     ]
    }
   ],
   "source": [
    "from sklearn.metrics import root_mean_squared_error, r2_score\n",
    "\n",
    "# Calculate the Root Mean Squared Error (RMSE)\n",
    "rmse = root_mean_squared_error(y_test, y_pred)\n",
    "\n",
    "# Calculate the R^2 Score\n",
    "r2 = r2_score(y_test, y_pred)\n",
    "\n",
    "print(\"RMSE:\", rmse)\n",
    "print(\"R^2 Score:\", r2)\n"
   ]
  },
  {
   "cell_type": "code",
   "execution_count": 85,
   "id": "c48e01e0-5ccd-449a-aa91-6d9b86775cfa",
   "metadata": {},
   "outputs": [
    {
     "name": "stdout",
     "output_type": "stream",
     "text": [
      "\n",
      "Top 5 Predicted Scorers:\n",
      "               Player  Predicted Goals\n",
      "1570      Cole Palmer              1.8\n",
      "3461     Ismaila Sarr              1.6\n",
      "3189   Erling Haaland              1.4\n",
      "2997  Bruno Fernandes              1.4\n",
      "818    Erling Haaland              1.4\n"
     ]
    }
   ],
   "source": [
    "try:\n",
    "    top_5_scorers = df_test.nlargest(5, 'Predicted Goals')\n",
    "    print(\"\\nTop 5 Predicted Scorers:\")\n",
    "    print(top_5_scorers[['Player', 'Predicted Goals']])\n",
    "except Exception as e:\n",
    "    print(\"Error in finding top 5 scorers:\", e)"
   ]
  },
  {
   "cell_type": "code",
   "execution_count": 87,
   "id": "c0581bc0-6603-490f-bec2-c168897210fc",
   "metadata": {},
   "outputs": [
    {
     "data": {
      "image/png": "[encoded data removed]",
      "text/plain": [
       "<Figure size 1000x600 with 1 Axes>"
      ]
     },
     "metadata": {},
     "output_type": "display_data"
    }
   ],
   "source": [
    "# Plot actual vs predicted values\n",
    "plt.figure(figsize=(10,6))\n",
    "plt.scatter(y_test, y_pred, color='blue', alpha=0.6)\n",
    "plt.plot([y_test.min(), y_test.max()], [y_test.min(), y_test.max()], 'k--', lw=2)\n",
    "plt.xlabel('Actual Goals')\n",
    "plt.ylabel('Predicted Goals')\n",
    "plt.title('KNN Goal Prediction')\n",
    "plt.grid(True)\n",
    "plt.show()"
   ]
  },
  {
   "cell_type": "code",
   "execution_count": 89,
   "id": "43a0c73c-dbbb-4b55-9bde-ab4c2b3ac180",
   "metadata": {},
   "outputs": [],
   "source": [
    "#***********************Description*******************************"
   ]
  },
  {
   "cell_type": "code",
   "execution_count": 93,
   "id": "afa69447-315c-4528-9ed6-0e17a1e35438",
   "metadata": {},
   "outputs": [],
   "source": [
    "# Step 1: Import Libraries\n",
    "\n",
    "# Explanation:\n",
    "# Imports necessary Python libraries:\n",
    "# pandas: For handling and manipulating data in DataFrames.\n",
    "# StandardScaler (from sklearn.preprocessing): To normalize/scale numerical features.\n",
    "# train_test_split (from sklearn.model_selection): To split data into training and testing sets.\n",
    "# KNeighborsRegressor (from sklearn.neighbors): To create and train a KNN regression model.\n",
    "# root_mean_squared_error, r2_score (from sklearn.metrics): To evaluate model performance.\n",
    "# matplotlib.pyplot: For plotting visualizations (e.g., scatter plots)."
   ]
  },
  {
   "cell_type": "code",
   "execution_count": 95,
   "id": "58238236-0e9d-4c88-8e4e-eb2d4835b21d",
   "metadata": {},
   "outputs": [],
   "source": [
    "# Step 2: Load the Dataset\n",
    "\n",
    "# Explanation:\n",
    "# Loads the dataset (database.csv) from the specified file path into a pandas DataFrame (df).\n",
    "# The r prefix ensures that backslashes in the file path are treated correctly on Windows."
   ]
  },
  {
   "cell_type": "code",
   "execution_count": 97,
   "id": "470c2a3b-cc8d-4251-8fa8-7e7d41fe84e2",
   "metadata": {},
   "outputs": [],
   "source": [
    "# Step 3: Inspect the Original Dataset\n",
    "\n",
    "# Explanation:\n",
    "# Prints the column names of the DataFrame df to verify the structure of the dataset."
   ]
  },
  {
   "cell_type": "code",
   "execution_count": 99,
   "id": "f42ed57b-d611-47dd-8b96-d14c770767c7",
   "metadata": {},
   "outputs": [],
   "source": [
    "# Step 4: Save Player Names\n",
    "\n",
    "# Explanation:\n",
    "# Creates a copy of the Player column in a new DataFrame (df_original) to preserve player names.\n",
    "# Prints the columns and the first 5 rows of df_original to verify that the Player column was correctly extracted."
   ]
  },
  {
   "cell_type": "code",
   "execution_count": 101,
   "id": "95300c57-229d-4d12-b7f3-7c813b50b791",
   "metadata": {},
   "outputs": [],
   "source": [
    "# Step 5: Drop Irrelevant Columns\n",
    "\n",
    "# Explanation:\n",
    "# Removes columns (Player, Team, Nation, Position, Age, Date) from df that are not used as features for the model.\n",
    "# axis=1 specifies that columns (not rows) are being dropped."
   ]
  },
  {
   "cell_type": "code",
   "execution_count": 103,
   "id": "6c9e3588-1c35-4e9f-8184-3361ab649e54",
   "metadata": {},
   "outputs": [],
   "source": [
    "# Step 6: Clean and Convert Pass Completion %\n",
    "\n",
    "# Explanation:\n",
    "# Replaces commas with dots in the Pass Completion % column (e.g., converts \"85,5\" to \"85.5\").\n",
    "# Converts the column to a float type for numerical processing."
   ]
  },
  {
   "cell_type": "code",
   "execution_count": 105,
   "id": "550f91cc-f0fb-442c-b64e-3b44340f937a",
   "metadata": {},
   "outputs": [],
   "source": [
    "# Step 7: Handle Missing Values\n",
    "\n",
    "# Explanation:\n",
    "# Removes any rows in df that contain missing values (NaN)."
   ]
  },
  {
   "cell_type": "code",
   "execution_count": 107,
   "id": "08e3100b-89ed-4f75-946f-1ba45b60f967",
   "metadata": {},
   "outputs": [],
   "source": [
    "# Step 8: Separate Features and Target\n",
    "\n",
    "# Explanation:\n",
    "# Creates X, the feature matrix, by dropping the Goals column from df (all columns except Goals are features).\n",
    "# Creates y, the target variable, which contains the Goals column."
   ]
  },
  {
   "cell_type": "code",
   "execution_count": 109,
   "id": "52772b7b-1142-48cb-9f75-38b5c04e836c",
   "metadata": {},
   "outputs": [],
   "source": [
    "# Step 9: Normalize Features\n",
    "\n",
    "# Explanation:\n",
    "# Initializes a StandardScaler to standardize features (scales them to have mean = 0 and standard deviation = 1).\n",
    "# Applies fit_transform to X to compute the scaling parameters and transform the features into X_scaled."
   ]
  },
  {
   "cell_type": "code",
   "execution_count": 111,
   "id": "cddcaea5-c8b9-4221-aeff-f6ff045e7331",
   "metadata": {},
   "outputs": [],
   "source": [
    "# Step 10: Verify the Prepared Dataset\n",
    "\n",
    "# Explanation:\n",
    "# Prints the first 5 rows of df to verify the processed dataset.\n",
    "# Prints the shape of X_scaled (number of rows and columns) to confirm the size of the feature matrix."
   ]
  },
  {
   "cell_type": "code",
   "execution_count": 113,
   "id": "d1e3f469-a602-4b8c-b829-fa89110ee0e4",
   "metadata": {},
   "outputs": [],
   "source": [
    "# Step 11: Split Data into Training and Testing Sets\n",
    "\n",
    "# Explanation:\n",
    "# Splits the data into training (80%) and testing (20%) sets using train_test_split.\n",
    "# X_scaled: Features for training/testing.\n",
    "# y: Target variable (goals) for training/testing.\n",
    "# df.index: Original indices of the DataFrame, included to track row indices for later use.\n",
    "# test_size=0.2: 20% of the data is reserved for testing.\n",
    "# random_state=42: Ensures reproducibility of the split.\n",
    "\n",
    "# Outputs:\n",
    "# X_train, X_test: Training and testing feature sets.\n",
    "# y_train, y_test: Training and testing target sets.\n",
    "# train_indices, test_indices: Indices for training and testing rows."
   ]
  },
  {
   "cell_type": "code",
   "execution_count": 115,
   "id": "d00c3ed9-6a66-4151-ba53-d567ab0108cd",
   "metadata": {},
   "outputs": [],
   "source": [
    "# Step 12: Verify Split Data\n",
    "\n",
    "# Explanation:\n",
    "# Prints the shape of X_test (number of test samples and features).\n",
    "# Prints the length of test_indices (number of test samples).\n",
    "# Prints the first 5 indices in test_indices to inspect them."
   ]
  },
  {
   "cell_type": "code",
   "execution_count": 117,
   "id": "9afd57a4-abae-4413-9b87-6f7efb5d80ee",
   "metadata": {},
   "outputs": [],
   "source": [
    "# Step 13: Train the KNN Model\n",
    "\n",
    "# Explanation:\n",
    "# Initializes a KNN regression model with n_neighbors=5 (uses the 5 nearest neighbors to predict goals).\n",
    "# Trains the model using fit on the training data (X_train, y_train)."
   ]
  },
  {
   "cell_type": "code",
   "execution_count": 119,
   "id": "cb17c606-1efd-422c-8977-4cfd14b7a4de",
   "metadata": {},
   "outputs": [],
   "source": [
    "# Step 14: Make Predictions\n",
    "\n",
    "# Explanation:\n",
    "# Uses the trained KNN model to predict goals for the test set (X_test), storing results in y_pred.\n",
    "# Prints the length of y_pred to confirm the number of predictions."
   ]
  },
  {
   "cell_type": "code",
   "execution_count": 121,
   "id": "0fb21822-454b-4e63-83b4-435cc86f2ca6",
   "metadata": {},
   "outputs": [],
   "source": [
    "# Step 15: Evaluate the Model\n",
    "\n",
    "# Explanation:\n",
    "# Calculates the Root Mean Squared Error (RMSE) between actual (y_test) and predicted (y_pred) goals.\n",
    "# Calculates the R² Score to measure how well the model explains the variance in the target variable.\n",
    "# Prints both metrics."
   ]
  },
  {
   "cell_type": "code",
   "execution_count": 123,
   "id": "518cb574-34d1-4a2a-a66a-69ee608edad8",
   "metadata": {},
   "outputs": [],
   "source": [
    "# Step 16: Identify Predicted Top Scorer\n",
    "\n",
    "# Explanation:\n",
    "# Creates df_test by selecting rows from df_original (containing player names) corresponding to test_indices.\n",
    "# Adds a new column Predicted Goals to df_test with the predicted goals (y_pred).\n",
    "# Prints the shape of df_test, its columns, and the first 5 rows to verify.\n",
    "# Wrapped in a try-except block to catch and display any errors (e.g., mismatched indices or lengths)."
   ]
  },
  {
   "cell_type": "code",
   "execution_count": 125,
   "id": "366f65ce-67bb-4445-801a-d41223c3a682",
   "metadata": {},
   "outputs": [],
   "source": [
    "# Step 17: Find the Top Scorer\n",
    "\n",
    "# Explanation:\n",
    "# Finds the player with the highest predicted goals using idxmax() to get the index of the maximum value in Predicted Goals.\n",
    "# Prints the player’s name and their predicted goals (formatted to 2 decimal places).\n",
    "# Wrapped in a try-except block to handle potential errors (e.g., if Predicted Goals is missing)."
   ]
  },
  {
   "cell_type": "code",
   "execution_count": 127,
   "id": "5506d09b-6420-477b-b36e-3ec796b8e6c1",
   "metadata": {},
   "outputs": [],
   "source": [
    "# Step 18: Show Top 5 Predicted Scorers\n",
    "\n",
    "# Explanation:\n",
    "# Selects the top 5 players with the highest predicted goals using nlargest(5, 'Predicted Goals').\n",
    "# Prints a table with their names and predicted goals.\n",
    "# Wrapped in a try-except block to catch errors (e.g., if Predicted Goals doesn’t exist)."
   ]
  },
  {
   "cell_type": "code",
   "execution_count": 129,
   "id": "5fb80aad-7853-4671-8cc2-e9ef5f494b43",
   "metadata": {},
   "outputs": [],
   "source": [
    "# Step 19: Visualize Predictions\n",
    "\n",
    "# Explanation:\n",
    "# Creates a scatter plot comparing actual goals (y_test) to predicted goals (y_pred).\n",
    "# Adds a diagonal dashed line (k--) representing perfect predictions (where actual = predicted).\n",
    "# Sets labels, title, and grid for clarity.\n",
    "# Displays the plot."
   ]
  },
  {
   "cell_type": "code",
   "execution_count": null,
   "id": "bbf8fa6d-a743-4e29-bc3d-7d8c34049784",
   "metadata": {},
   "outputs": [],
   "source": [
    "# Summary\n",
    "# The code is a complete machine learning pipeline that:\n",
    "\n",
    "# 1-Loads and preprocesses a football player dataset.\n",
    "# 2-Trains a KNN model to predict goals based on player statistics.\n",
    "# 3-Evaluates the model using RMSE and R² metrics.\n",
    "# 4-Identifies the top predicted scorer and the top 5 scorers by linking predictions to player names.\n",
    "# 5-Visualizes actual vs. predicted goals."
   ]
  }
 ],
 "metadata": {
  "kernelspec": {
   "display_name": "Python 3 (ipykernel)",
   "language": "python",
   "name": "python3"
  },
  "language_info": {
   "codemirror_mode": {
    "name": "ipython",
    "version": 3
   },
   "file_extension": ".py",
   "mimetype": "text/x-python",
   "name": "python",
   "nbconvert_exporter": "python",
   "pygments_lexer": "ipython3",
   "version": "3.12.4"
  }
 },
 "nbformat": 4,
 "nbformat_minor": 5
}
